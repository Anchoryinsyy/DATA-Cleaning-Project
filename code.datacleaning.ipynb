{
 "cells": [
  {
   "attachments": {},
   "cell_type": "markdown",
   "metadata": {},
   "source": [
    "**The Project focus on DATA Mining of the raw data set extracted from Qualtrics**"
   ]
  },
  {
   "attachments": {},
   "cell_type": "markdown",
   "metadata": {},
   "source": [
    "1) First we need to recode several columns: Race, Gender, Discipline, for \n",
    "   research interests, they are all being measured as categorical variables, we \n",
    "   need to combine several subcategories to the subsequent analysis possible.\n",
    "  \n",
    "     (1) Race: original codes: ['4', '1,2', '1,7', '5', '1', '3', '3,7', '1,4', \n",
    "     '3,4', '1,2,7','7', '1,3,6,7', '2', '2,4', '4,7', '2,4,7', '5,7', '4,5,7', \n",
    "     '2,7', '1,5,7', '1,2,4,7', '3,4,6', '6', '1,4,7', '1,6', '1,3', '3,4,7', \n",
    "     '2,3,4']\n",
    "\n",
    "     (2) Gender: original codes: ['2.0', '5.0', '1.0', '3.0', '4.0']\n",
    "\n",
    "\n",
    "     (3) Discipline: original codes: ['2.0', '1.0', '5.0', '7.0', '6.0', '4.0', \n",
    "    '3.0']\n",
    "\n",
    "  We also need other categorical variables for following analysis: Sexual_Harassment, Offended_sex_remarks, Sexual Orientation.\n",
    "\n",
    "2) Then we need to recode the 'Mental Health Score' since the original one has \n",
    "   been reversely coded\n",
    "\n",
    "3) We also need to extract all of continuous variables to calculate their sum score, the variables we need are: Imposter Syndrome Score, Mental Health Score, Minority Stress Score\n",
    "4) Then we need to check for missing values and several descriptive stats\n"
   ]
  },
  {
   "cell_type": "code",
   "execution_count": 1,
   "metadata": {},
   "outputs": [],
   "source": [
    "# import the Python libraries\n",
    "import numpy as np\n",
    "import pandas as pd\n",
    "import matplotlib.pyplot as plt\n",
    "%matplotlib inline"
   ]
  },
  {
   "cell_type": "code",
   "execution_count": 2,
   "metadata": {},
   "outputs": [],
   "source": [
    "# Import the Data set\n",
    "# This the combined raw dataset, \n",
    "# we need to extracted the variables of interests from this raw DATASET\n",
    "Combined__all3WAVES = pd.read_csv(\"../Combined__all3WAVES.csv\")"
   ]
  },
  {
   "cell_type": "markdown",
   "metadata": {},
   "source": [
    "**Check Data Structure**"
   ]
  },
  {
   "cell_type": "code",
   "execution_count": 3,
   "metadata": {},
   "outputs": [
    {
     "data": {
      "text/plain": [
       "Index(['StartDate', 'EndDate', 'Status', 'IPAddress', 'Progress',\n",
       "       'Duration (in seconds)', 'Finished', 'RecordedDate', 'ResponseId',\n",
       "       'RecipientLastName',\n",
       "       ...\n",
       "       'Q376_Name', 'Q376_Size', 'Q376_Type', 'COVID_19', 'Cohabiting',\n",
       "       'Household_income', 'name_1', 'name_2', 'email_address',\n",
       "       'Future_contact'],\n",
       "      dtype='object', length=265)"
      ]
     },
     "execution_count": 3,
     "metadata": {},
     "output_type": "execute_result"
    }
   ],
   "source": [
    "Combined__all3WAVES.columns"
   ]
  },
  {
   "cell_type": "code",
   "execution_count": 4,
   "metadata": {},
   "outputs": [
    {
     "name": "stdout",
     "output_type": "stream",
     "text": [
      "<class 'pandas.core.frame.DataFrame'>\n",
      "RangeIndex: 973 entries, 0 to 972\n",
      "Columns: 265 entries, StartDate to Future_contact\n",
      "dtypes: float64(199), int64(5), object(61)\n",
      "memory usage: 2.0+ MB\n"
     ]
    }
   ],
   "source": [
    "Combined__all3WAVES.info()"
   ]
  },
  {
   "cell_type": "code",
   "execution_count": 5,
   "metadata": {},
   "outputs": [
    {
     "data": {
      "text/plain": [
       "(973, 265)"
      ]
     },
     "execution_count": 5,
     "metadata": {},
     "output_type": "execute_result"
    }
   ],
   "source": [
    "Combined__all3WAVES.shape"
   ]
  },
  {
   "cell_type": "code",
   "execution_count": null,
   "metadata": {},
   "outputs": [],
   "source": [
    "Combined__all3WAVES.head(6)"
   ]
  },
  {
   "cell_type": "code",
   "execution_count": null,
   "metadata": {},
   "outputs": [],
   "source": [
    "Combined__all3WAVES.tail(6)"
   ]
  },
  {
   "cell_type": "code",
   "execution_count": 7,
   "metadata": {},
   "outputs": [
    {
     "data": {
      "text/plain": [
       "StartDate            object\n",
       "EndDate              object\n",
       "Status                int64\n",
       "IPAddress            object\n",
       "Progress              int64\n",
       "                     ...   \n",
       "Household_income    float64\n",
       "name_1               object\n",
       "name_2               object\n",
       "email_address        object\n",
       "Future_contact      float64\n",
       "Length: 265, dtype: object"
      ]
     },
     "execution_count": 7,
     "metadata": {},
     "output_type": "execute_result"
    }
   ],
   "source": [
    "Combined__all3WAVES.dtypes"
   ]
  },
  {
   "cell_type": "code",
   "execution_count": null,
   "metadata": {},
   "outputs": [],
   "source": [
    "# Use below two kinds of methods to get the names of all variables in the dataset\n",
    "list(Combined__all3WAVES.keys())\n",
    "list(Combined__all3WAVES.columns)\n",
    "list(Combined__all3WAVES.columns.values)"
   ]
  },
  {
   "attachments": {},
   "cell_type": "markdown",
   "metadata": {},
   "source": [
    "**Create a variable called 'ALLVARs' to store all the names of variables**"
   ]
  },
  {
   "cell_type": "code",
   "execution_count": 14,
   "metadata": {},
   "outputs": [
    {
     "data": {
      "text/plain": [
       "['StartDate', 'EndDate', 'Status', 'IPAddress', 'Progress']"
      ]
     },
     "execution_count": 14,
     "metadata": {},
     "output_type": "execute_result"
    }
   ],
   "source": [
    "ALLVARs = list(Combined__all3WAVES.columns.values)\n",
    "ALLVARs[0:5]"
   ]
  },
  {
   "attachments": {},
   "cell_type": "markdown",
   "metadata": {},
   "source": [
    "**Get the names of all the continuous variables of interests**"
   ]
  },
  {
   "attachments": {},
   "cell_type": "markdown",
   "metadata": {},
   "source": [
    "We need Imposter Syndrome Score, Mental Health Score, Minority Stress Score"
   ]
  },
  {
   "cell_type": "code",
   "execution_count": 22,
   "metadata": {},
   "outputs": [
    {
     "name": "stdout",
     "output_type": "stream",
     "text": [
      "['Imposter_1', 'Imposter_2', 'Imposter_3', 'Imposter_4', 'Imposter_5', 'Imposter_6', 'Imposter_7', 'Imposter_8', 'Imposter_9', 'Imposter_10', 'Imposter_11', 'Imposter_12', 'Imposter_13', 'Imposter_14', 'Imposter_15', 'Imposter_16', 'Imposter_17', 'Imposter_18', 'Imposter_19', 'Imposter_20']\n",
      "20\n"
     ]
    }
   ],
   "source": [
    "name_Impos=list(filter(lambda x : 'Imposter_' in x, ALLVARs))\n",
    "print(name_Impos)\n",
    "print(len(name_Impos))"
   ]
  },
  {
   "cell_type": "code",
   "execution_count": 23,
   "metadata": {},
   "outputs": [
    {
     "name": "stdout",
     "output_type": "stream",
     "text": [
      "['Health_1', 'Health_2', 'Health_3', 'Health_4', 'Health_5', 'Health_6']\n",
      "6\n"
     ]
    }
   ],
   "source": [
    "name_Health=list(filter(lambda x : x.startswith('Health_'), ALLVARs))\n",
    "print(name_Health)\n",
    "print(len(name_Health))"
   ]
  },
  {
   "cell_type": "code",
   "execution_count": 24,
   "metadata": {},
   "outputs": [
    {
     "name": "stdout",
     "output_type": "stream",
     "text": [
      "['Mental_Health_5_item_1', 'Mental_Health_5_item_2', 'Mental_Health_5_item_3', 'Mental_Health_5_item_4', 'Mental_Health_5_item_5']\n",
      "5\n"
     ]
    }
   ],
   "source": [
    "name_MenHea=list(filter(lambda x : 'Mental_Health_5_item_' in x, ALLVARs))\n",
    "print(name_MenHea)\n",
    "print(len(name_MenHea))"
   ]
  },
  {
   "cell_type": "code",
   "execution_count": 25,
   "metadata": {},
   "outputs": [
    {
     "name": "stdout",
     "output_type": "stream",
     "text": [
      "['Minority_Stress_1', 'Minority_Stress_2', 'Minority_Stress_3', 'Minority_Stress_4', 'Minority_Stress_5', 'Minority_Stress_6', 'Minority_Stress_7', 'Minority_Stress_8', 'Minority_Stress_9', 'Minority_Stress_10', 'Minority_Stress_11', 'Minority_Stress_12', 'Minority_Stress_13', 'Minority_Stress_14', 'Minority_Stress_15', 'Minority_Stress_16', 'Minority_Stress_17', 'Minority_Stress_18', 'Minority_Stress_19', 'Minority_Stress_20', 'Minority_Stress_21', 'Minority_Stress_22', 'Minority_Stress_23', 'Minority_Stress_24', 'Minority_Stress_25', 'Minority_Stress_26', 'Minority_Stress_27', 'Minority_Stress_28', 'Minority_Stress_29', 'Minority_Stress_30', 'Minority_Stress_31', 'Minority_Stress_32', 'Minority_Stress_33']\n",
      "33\n"
     ]
    }
   ],
   "source": [
    "name_MinoStres=list(filter(lambda x : 'Minority_Stress_' in x, ALLVARs))\n",
    "print(name_MinoStres)\n",
    "print(len(name_MinoStres))"
   ]
  },
  {
   "cell_type": "code",
   "execution_count": 19,
   "metadata": {},
   "outputs": [
    {
     "data": {
      "text/plain": [
       "['U_others_sex_harass', 'Offended_sex_remarks']"
      ]
     },
     "execution_count": 19,
     "metadata": {},
     "output_type": "execute_result"
    }
   ],
   "source": [
    "name_sexual=[a for a in ALLVARs if a.startswith('U_') or a.startswith('Offended_')]\n",
    "name_sexual"
   ]
  },
  {
   "cell_type": "code",
   "execution_count": 72,
   "metadata": {},
   "outputs": [
    {
     "data": {
      "text/plain": [
       "['Sexual_orientation', 'Sexual_orientation_4_TEXT']"
      ]
     },
     "execution_count": 72,
     "metadata": {},
     "output_type": "execute_result"
    }
   ],
   "source": [
    "# this line of code is only used to find the whole names of two categorical variables we need \n",
    "[a for a in ALLVARs if a.startswith('Sexual_o')]"
   ]
  },
  {
   "cell_type": "code",
   "execution_count": 70,
   "metadata": {},
   "outputs": [
    {
     "name": "stdout",
     "output_type": "stream",
     "text": [
      "['Sexual_orientation', 'Race_ethnicity_ID', 'Discipline', 'Gender', 'Pain', 'Fatigue', 'Physical_Activities', 'Negative_affect', 'Imposter_1', 'Imposter_2', 'Imposter_3', 'Imposter_4', 'Imposter_5', 'Imposter_6', 'Imposter_7', 'Imposter_8', 'Imposter_9', 'Imposter_10', 'Imposter_11', 'Imposter_12', 'Imposter_13', 'Imposter_14', 'Imposter_15', 'Imposter_16', 'Imposter_17', 'Imposter_18', 'Imposter_19', 'Imposter_20', 'Health_1', 'Health_2', 'Health_3', 'Health_4', 'Health_5', 'Health_6', 'Mental_Health_5_item_1', 'Mental_Health_5_item_2', 'Mental_Health_5_item_3', 'Mental_Health_5_item_4', 'Mental_Health_5_item_5', 'Minority_Stress_1', 'Minority_Stress_2', 'Minority_Stress_3', 'Minority_Stress_4', 'Minority_Stress_5', 'Minority_Stress_6', 'Minority_Stress_7', 'Minority_Stress_8', 'Minority_Stress_9', 'Minority_Stress_10', 'Minority_Stress_11', 'Minority_Stress_12', 'Minority_Stress_13', 'Minority_Stress_14', 'Minority_Stress_15', 'Minority_Stress_16', 'Minority_Stress_17', 'Minority_Stress_18', 'Minority_Stress_19', 'Minority_Stress_20', 'Minority_Stress_21', 'Minority_Stress_22', 'Minority_Stress_23', 'Minority_Stress_24', 'Minority_Stress_25', 'Minority_Stress_26', 'Minority_Stress_27', 'Minority_Stress_28', 'Minority_Stress_29', 'Minority_Stress_30', 'Minority_Stress_31', 'Minority_Stress_32', 'Minority_Stress_33', 'U_others_sex_harass', 'Offended_sex_remarks']\n",
      "74\n"
     ]
    }
   ],
   "source": [
    "# Pack all the names of variables of interests in a list called 'to_select' for extraction\n",
    "to_select = ['Sexual_orientation','Race_ethnicity_ID','Discipline','Gender','Pain','Fatigue','Physical_Activities',\n",
    "'Negative_affect'] + [*name_Impos,*name_Health,*name_MenHea,*name_MinoStres,*name_sexual]\n",
    "print(to_select, len(to_select), sep=\"\\n\")"
   ]
  },
  {
   "attachments": {},
   "cell_type": "markdown",
   "metadata": {},
   "source": [
    "**Creating a subset of data**"
   ]
  },
  {
   "cell_type": "code",
   "execution_count": 71,
   "metadata": {},
   "outputs": [],
   "source": [
    "df = Combined__all3WAVES[to_select].copy()"
   ]
  },
  {
   "attachments": {},
   "cell_type": "markdown",
   "metadata": {},
   "source": [
    "**Checking some Data Structure**"
   ]
  },
  {
   "cell_type": "code",
   "execution_count": null,
   "metadata": {},
   "outputs": [],
   "source": [
    "df.head(6)"
   ]
  },
  {
   "cell_type": "code",
   "execution_count": null,
   "metadata": {},
   "outputs": [],
   "source": [
    "df.tail(6)"
   ]
  },
  {
   "cell_type": "code",
   "execution_count": 74,
   "metadata": {},
   "outputs": [
    {
     "data": {
      "text/plain": [
       "Index(['Sexual_orientation', 'Race_ethnicity_ID', 'Discipline', 'Gender',\n",
       "       'Pain', 'Fatigue', 'Physical_Activities', 'Negative_affect',\n",
       "       'Imposter_1', 'Imposter_2', 'Imposter_3', 'Imposter_4', 'Imposter_5',\n",
       "       'Imposter_6', 'Imposter_7', 'Imposter_8', 'Imposter_9', 'Imposter_10',\n",
       "       'Imposter_11', 'Imposter_12', 'Imposter_13', 'Imposter_14',\n",
       "       'Imposter_15', 'Imposter_16', 'Imposter_17', 'Imposter_18',\n",
       "       'Imposter_19', 'Imposter_20', 'Health_1', 'Health_2', 'Health_3',\n",
       "       'Health_4', 'Health_5', 'Health_6', 'Mental_Health_5_item_1',\n",
       "       'Mental_Health_5_item_2', 'Mental_Health_5_item_3',\n",
       "       'Mental_Health_5_item_4', 'Mental_Health_5_item_5', 'Minority_Stress_1',\n",
       "       'Minority_Stress_2', 'Minority_Stress_3', 'Minority_Stress_4',\n",
       "       'Minority_Stress_5', 'Minority_Stress_6', 'Minority_Stress_7',\n",
       "       'Minority_Stress_8', 'Minority_Stress_9', 'Minority_Stress_10',\n",
       "       'Minority_Stress_11', 'Minority_Stress_12', 'Minority_Stress_13',\n",
       "       'Minority_Stress_14', 'Minority_Stress_15', 'Minority_Stress_16',\n",
       "       'Minority_Stress_17', 'Minority_Stress_18', 'Minority_Stress_19',\n",
       "       'Minority_Stress_20', 'Minority_Stress_21', 'Minority_Stress_22',\n",
       "       'Minority_Stress_23', 'Minority_Stress_24', 'Minority_Stress_25',\n",
       "       'Minority_Stress_26', 'Minority_Stress_27', 'Minority_Stress_28',\n",
       "       'Minority_Stress_29', 'Minority_Stress_30', 'Minority_Stress_31',\n",
       "       'Minority_Stress_32', 'Minority_Stress_33', 'U_others_sex_harass',\n",
       "       'Offended_sex_remarks'],\n",
       "      dtype='object')"
      ]
     },
     "execution_count": 74,
     "metadata": {},
     "output_type": "execute_result"
    }
   ],
   "source": [
    "df.columns"
   ]
  },
  {
   "cell_type": "code",
   "execution_count": 75,
   "metadata": {},
   "outputs": [
    {
     "data": {
      "text/plain": [
       "Sexual_orientation      float64\n",
       "Race_ethnicity_ID        object\n",
       "Discipline              float64\n",
       "Gender                  float64\n",
       "Pain                    float64\n",
       "                         ...   \n",
       "Minority_Stress_31      float64\n",
       "Minority_Stress_32      float64\n",
       "Minority_Stress_33      float64\n",
       "U_others_sex_harass     float64\n",
       "Offended_sex_remarks    float64\n",
       "Length: 74, dtype: object"
      ]
     },
     "execution_count": 75,
     "metadata": {},
     "output_type": "execute_result"
    }
   ],
   "source": [
    "df.dtypes"
   ]
  },
  {
   "cell_type": "code",
   "execution_count": 76,
   "metadata": {},
   "outputs": [
    {
     "data": {
      "text/plain": [
       "(973, 74)"
      ]
     },
     "execution_count": 76,
     "metadata": {},
     "output_type": "execute_result"
    }
   ],
   "source": [
    "df.shape"
   ]
  },
  {
   "cell_type": "code",
   "execution_count": 77,
   "metadata": {},
   "outputs": [
    {
     "name": "stdout",
     "output_type": "stream",
     "text": [
      "<class 'pandas.core.frame.DataFrame'>\n",
      "RangeIndex: 973 entries, 0 to 972\n",
      "Data columns (total 74 columns):\n",
      " #   Column                  Non-Null Count  Dtype  \n",
      "---  ------                  --------------  -----  \n",
      " 0   Sexual_orientation      683 non-null    float64\n",
      " 1   Race_ethnicity_ID       683 non-null    object \n",
      " 2   Discipline              813 non-null    float64\n",
      " 3   Gender                  682 non-null    float64\n",
      " 4   Pain                    724 non-null    float64\n",
      " 5   Fatigue                 724 non-null    float64\n",
      " 6   Physical_Activities     724 non-null    float64\n",
      " 7   Negative_affect         724 non-null    float64\n",
      " 8   Imposter_1              694 non-null    float64\n",
      " 9   Imposter_2              647 non-null    float64\n",
      " 10  Imposter_3              691 non-null    float64\n",
      " 11  Imposter_4              692 non-null    float64\n",
      " 12  Imposter_5              693 non-null    float64\n",
      " 13  Imposter_6              693 non-null    float64\n",
      " 14  Imposter_7              693 non-null    float64\n",
      " 15  Imposter_8              693 non-null    float64\n",
      " 16  Imposter_9              694 non-null    float64\n",
      " 17  Imposter_10             692 non-null    float64\n",
      " 18  Imposter_11             692 non-null    float64\n",
      " 19  Imposter_12             694 non-null    float64\n",
      " 20  Imposter_13             692 non-null    float64\n",
      " 21  Imposter_14             693 non-null    float64\n",
      " 22  Imposter_15             693 non-null    float64\n",
      " 23  Imposter_16             694 non-null    float64\n",
      " 24  Imposter_17             693 non-null    float64\n",
      " 25  Imposter_18             692 non-null    float64\n",
      " 26  Imposter_19             693 non-null    float64\n",
      " 27  Imposter_20             694 non-null    float64\n",
      " 28  Health_1                723 non-null    float64\n",
      " 29  Health_2                724 non-null    float64\n",
      " 30  Health_3                723 non-null    float64\n",
      " 31  Health_4                724 non-null    float64\n",
      " 32  Health_5                724 non-null    float64\n",
      " 33  Health_6                724 non-null    float64\n",
      " 34  Mental_Health_5_item_1  720 non-null    float64\n",
      " 35  Mental_Health_5_item_2  720 non-null    float64\n",
      " 36  Mental_Health_5_item_3  720 non-null    float64\n",
      " 37  Mental_Health_5_item_4  720 non-null    float64\n",
      " 38  Mental_Health_5_item_5  720 non-null    float64\n",
      " 39  Minority_Stress_1       708 non-null    float64\n",
      " 40  Minority_Stress_2       709 non-null    float64\n",
      " 41  Minority_Stress_3       709 non-null    float64\n",
      " 42  Minority_Stress_4       710 non-null    float64\n",
      " 43  Minority_Stress_5       710 non-null    float64\n",
      " 44  Minority_Stress_6       710 non-null    float64\n",
      " 45  Minority_Stress_7       709 non-null    float64\n",
      " 46  Minority_Stress_8       710 non-null    float64\n",
      " 47  Minority_Stress_9       710 non-null    float64\n",
      " 48  Minority_Stress_10      709 non-null    float64\n",
      " 49  Minority_Stress_11      709 non-null    float64\n",
      " 50  Minority_Stress_12      704 non-null    float64\n",
      " 51  Minority_Stress_13      705 non-null    float64\n",
      " 52  Minority_Stress_14      705 non-null    float64\n",
      " 53  Minority_Stress_15      704 non-null    float64\n",
      " 54  Minority_Stress_16      704 non-null    float64\n",
      " 55  Minority_Stress_17      705 non-null    float64\n",
      " 56  Minority_Stress_18      705 non-null    float64\n",
      " 57  Minority_Stress_19      705 non-null    float64\n",
      " 58  Minority_Stress_20      705 non-null    float64\n",
      " 59  Minority_Stress_21      705 non-null    float64\n",
      " 60  Minority_Stress_22      703 non-null    float64\n",
      " 61  Minority_Stress_23      699 non-null    float64\n",
      " 62  Minority_Stress_24      699 non-null    float64\n",
      " 63  Minority_Stress_25      699 non-null    float64\n",
      " 64  Minority_Stress_26      697 non-null    float64\n",
      " 65  Minority_Stress_27      698 non-null    float64\n",
      " 66  Minority_Stress_28      697 non-null    float64\n",
      " 67  Minority_Stress_29      699 non-null    float64\n",
      " 68  Minority_Stress_30      698 non-null    float64\n",
      " 69  Minority_Stress_31      699 non-null    float64\n",
      " 70  Minority_Stress_32      698 non-null    float64\n",
      " 71  Minority_Stress_33      698 non-null    float64\n",
      " 72  U_others_sex_harass     416 non-null    float64\n",
      " 73  Offended_sex_remarks    416 non-null    float64\n",
      "dtypes: float64(73), object(1)\n",
      "memory usage: 562.6+ KB\n"
     ]
    }
   ],
   "source": [
    "df.info()"
   ]
  },
  {
   "attachments": {},
   "cell_type": "markdown",
   "metadata": {},
   "source": [
    "**I first Manipulate the RACE column**"
   ]
  },
  {
   "cell_type": "code",
   "execution_count": 74,
   "metadata": {},
   "outputs": [
    {
     "data": {
      "text/plain": [
       "array(['4', '1,2', '1,7', '5', '1', '3', '3,7', '1,4', '3,4', '1,2,7',\n",
       "       '7', '1,3,6,7', '2', '2,4', '4,7', '2,4,7', '5,7', '4,5,7', '2,7',\n",
       "       '1,5,7', '1,2,4,7', '3,4,6', '6', '1,4,7', '1,6', '1,3', '3,4,7',\n",
       "       '2,3,4'], dtype=object)"
      ]
     },
     "execution_count": 74,
     "metadata": {},
     "output_type": "execute_result"
    }
   ],
   "source": [
    "# Check for the original subcategories\n",
    "df.Race_ethnicity_ID.dropna().unique()"
   ]
  },
  {
   "cell_type": "markdown",
   "metadata": {},
   "source": [
    "The original subcategories are too messy, I need to combine some of them."
   ]
  },
  {
   "cell_type": "code",
   "execution_count": 51,
   "metadata": {},
   "outputs": [],
   "source": [
    "### you could first make all variables tonumeric\n",
    "### but if you have multiple entered data for one entry, this would ignore them and make them all NA\n",
    "### so better not do this but convert them one by hand \n",
    "# df['Race_ethnicity_ID']=pd.to_numeric(df['Race_ethnicity_ID'],errors='coerce')"
   ]
  },
  {
   "cell_type": "code",
   "execution_count": 78,
   "metadata": {},
   "outputs": [
    {
     "data": {
      "text/plain": [
       "True"
      ]
     },
     "execution_count": 78,
     "metadata": {},
     "output_type": "execute_result"
    }
   ],
   "source": [
    "## Check the data type of 'Race'\n",
    "df['Race_ethnicity_ID'].dtypes == object "
   ]
  },
  {
   "cell_type": "markdown",
   "metadata": {},
   "source": [
    "The data type of this variable is 'Object'"
   ]
  },
  {
   "cell_type": "markdown",
   "metadata": {},
   "source": [
    "**The current variable names are too complex, I need to change them**"
   ]
  },
  {
   "cell_type": "code",
   "execution_count": 79,
   "metadata": {},
   "outputs": [
    {
     "name": "stdout",
     "output_type": "stream",
     "text": [
      "{'Race_ethnicity_ID': 'Race_num', 'U_others_sex_harass': 'sex_harass_num', 'Offended_sex_remarks': 'sex_remarks_num'}\n"
     ]
    }
   ],
   "source": [
    "### define the name to change\n",
    "to_change1 = {'Race_ethnicity_ID': 'Race_num', 'U_others_sex_harass':'sex_harass_num','Offended_sex_remarks':'sex_remarks_num'}\n",
    "print(to_change1)"
   ]
  },
  {
   "cell_type": "code",
   "execution_count": 80,
   "metadata": {},
   "outputs": [
    {
     "name": "stdout",
     "output_type": "stream",
     "text": [
      "['Sexual_orientation', 'Discipline', 'Gender']\n"
     ]
    }
   ],
   "source": [
    "# Also get the names of 4 categorical variables we need\n",
    "ori_name=list(df.keys())[0:4]\n",
    "ori_name.remove('Race_ethnicity_ID')\n",
    "print(ori_name)"
   ]
  },
  {
   "cell_type": "code",
   "execution_count": 81,
   "metadata": {},
   "outputs": [
    {
     "name": "stdout",
     "output_type": "stream",
     "text": [
      "['Sexual_orientation_num', 'Discipline_num', 'Gender_num']\n"
     ]
    }
   ],
   "source": [
    "# Created a list of new names\n",
    "New_name=[a + '_num' for a in ori_name]\n",
    "print(New_name)"
   ]
  },
  {
   "cell_type": "code",
   "execution_count": 82,
   "metadata": {},
   "outputs": [
    {
     "name": "stdout",
     "output_type": "stream",
     "text": [
      "{'Sexual_orientation': 'Sexual_orientation_num', 'Discipline': 'Discipline_num', 'Gender': 'Gender_num'}\n"
     ]
    }
   ],
   "source": [
    "Name_pairs={item: New_name[idx] for idx,item in enumerate(ori_name)}\n",
    "print(Name_pairs)"
   ]
  },
  {
   "cell_type": "code",
   "execution_count": 83,
   "metadata": {},
   "outputs": [
    {
     "name": "stdout",
     "output_type": "stream",
     "text": [
      "{'Race_ethnicity_ID': 'Race_num', 'U_others_sex_harass': 'sex_harass_num', 'Offended_sex_remarks': 'sex_remarks_num', 'Sexual_orientation': 'Sexual_orientation_num', 'Discipline': 'Discipline_num', 'Gender': 'Gender_num'}\n"
     ]
    }
   ],
   "source": [
    "to_change = {**to_change1 ,**Name_pairs}\n",
    "print(to_change)"
   ]
  },
  {
   "cell_type": "code",
   "execution_count": 85,
   "metadata": {},
   "outputs": [],
   "source": [
    "### rename the columns\n",
    "df = df.rename(columns=to_change)"
   ]
  },
  {
   "cell_type": "code",
   "execution_count": 86,
   "metadata": {},
   "outputs": [
    {
     "data": {
      "text/plain": [
       "array(['Sexual_orientation_num', 'Race_num', 'Discipline_num',\n",
       "       'Gender_num', 'Pain', 'Fatigue', 'Physical_Activities',\n",
       "       'Negative_affect', 'Imposter_1', 'Imposter_2', 'Imposter_3',\n",
       "       'Imposter_4', 'Imposter_5', 'Imposter_6', 'Imposter_7',\n",
       "       'Imposter_8', 'Imposter_9', 'Imposter_10', 'Imposter_11',\n",
       "       'Imposter_12', 'Imposter_13', 'Imposter_14', 'Imposter_15',\n",
       "       'Imposter_16', 'Imposter_17', 'Imposter_18', 'Imposter_19',\n",
       "       'Imposter_20', 'Health_1', 'Health_2', 'Health_3', 'Health_4',\n",
       "       'Health_5', 'Health_6', 'Mental_Health_5_item_1',\n",
       "       'Mental_Health_5_item_2', 'Mental_Health_5_item_3',\n",
       "       'Mental_Health_5_item_4', 'Mental_Health_5_item_5',\n",
       "       'Minority_Stress_1', 'Minority_Stress_2', 'Minority_Stress_3',\n",
       "       'Minority_Stress_4', 'Minority_Stress_5', 'Minority_Stress_6',\n",
       "       'Minority_Stress_7', 'Minority_Stress_8', 'Minority_Stress_9',\n",
       "       'Minority_Stress_10', 'Minority_Stress_11', 'Minority_Stress_12',\n",
       "       'Minority_Stress_13', 'Minority_Stress_14', 'Minority_Stress_15',\n",
       "       'Minority_Stress_16', 'Minority_Stress_17', 'Minority_Stress_18',\n",
       "       'Minority_Stress_19', 'Minority_Stress_20', 'Minority_Stress_21',\n",
       "       'Minority_Stress_22', 'Minority_Stress_23', 'Minority_Stress_24',\n",
       "       'Minority_Stress_25', 'Minority_Stress_26', 'Minority_Stress_27',\n",
       "       'Minority_Stress_28', 'Minority_Stress_29', 'Minority_Stress_30',\n",
       "       'Minority_Stress_31', 'Minority_Stress_32', 'Minority_Stress_33',\n",
       "       'sex_harass_num', 'sex_remarks_num'], dtype=object)"
      ]
     },
     "execution_count": 86,
     "metadata": {},
     "output_type": "execute_result"
    }
   ],
   "source": [
    "##### check the current column names\n",
    "df.columns.values"
   ]
  },
  {
   "cell_type": "markdown",
   "metadata": {},
   "source": [
    "**For the following, we modify the race varaible**"
   ]
  },
  {
   "cell_type": "code",
   "execution_count": 87,
   "metadata": {},
   "outputs": [
    {
     "data": {
      "text/plain": [
       "0    NaN\n",
       "1      4\n",
       "2    1,2\n",
       "3    1,7\n",
       "4      5\n",
       "5      5\n",
       "Name: Race_num, dtype: object"
      ]
     },
     "execution_count": 87,
     "metadata": {},
     "output_type": "execute_result"
    }
   ],
   "source": [
    "df['Race_num'].head(6)"
   ]
  },
  {
   "cell_type": "code",
   "execution_count": 88,
   "metadata": {},
   "outputs": [
    {
     "data": {
      "text/plain": [
       "array([nan, '4', '1,2', '1,7', '5', '1', '3', '3,7', '1,4', '3,4',\n",
       "       '1,2,7', '7', '1,3,6,7', '2', '2,4', '4,7', '2,4,7', '5,7',\n",
       "       '4,5,7', '2,7', '1,5,7', '1,2,4,7', '3,4,6', '6', '1,4,7', '1,6',\n",
       "       '1,3', '3,4,7', '2,3,4'], dtype=object)"
      ]
     },
     "execution_count": 88,
     "metadata": {},
     "output_type": "execute_result"
    }
   ],
   "source": [
    "df['Race_num'].unique()"
   ]
  },
  {
   "attachments": {},
   "cell_type": "markdown",
   "metadata": {},
   "source": [
    "**We need to convert the data types of some variables**"
   ]
  },
  {
   "cell_type": "code",
   "execution_count": 89,
   "metadata": {},
   "outputs": [
    {
     "name": "stdout",
     "output_type": "stream",
     "text": [
      "['Sexual_orientation_num', 'Discipline_num', 'Gender_num', 'Race_num', 'sex_harass_num', 'sex_remarks_num']\n"
     ]
    }
   ],
   "source": [
    "# First find the names of the variable we need to convert data types\n",
    "to_convert = New_name + ['Race_num'] + list(to_change1.values())[1:]\n",
    "print(to_convert)"
   ]
  },
  {
   "cell_type": "code",
   "execution_count": 91,
   "metadata": {},
   "outputs": [
    {
     "data": {
      "text/html": [
       "<div>\n",
       "<style scoped>\n",
       "    .dataframe tbody tr th:only-of-type {\n",
       "        vertical-align: middle;\n",
       "    }\n",
       "\n",
       "    .dataframe tbody tr th {\n",
       "        vertical-align: top;\n",
       "    }\n",
       "\n",
       "    .dataframe thead th {\n",
       "        text-align: right;\n",
       "    }\n",
       "</style>\n",
       "<table border=\"1\" class=\"dataframe\">\n",
       "  <thead>\n",
       "    <tr style=\"text-align: right;\">\n",
       "      <th></th>\n",
       "      <th>Sexual_orientation_num</th>\n",
       "      <th>Discipline_num</th>\n",
       "      <th>Gender_num</th>\n",
       "      <th>Race_num</th>\n",
       "      <th>sex_harass_num</th>\n",
       "      <th>sex_remarks_num</th>\n",
       "    </tr>\n",
       "  </thead>\n",
       "  <tbody>\n",
       "    <tr>\n",
       "      <th>0</th>\n",
       "      <td>NaN</td>\n",
       "      <td>2.0</td>\n",
       "      <td>NaN</td>\n",
       "      <td>NaN</td>\n",
       "      <td>NaN</td>\n",
       "      <td>NaN</td>\n",
       "    </tr>\n",
       "    <tr>\n",
       "      <th>1</th>\n",
       "      <td>1.0</td>\n",
       "      <td>2.0</td>\n",
       "      <td>2.0</td>\n",
       "      <td>4</td>\n",
       "      <td>2.0</td>\n",
       "      <td>1.0</td>\n",
       "    </tr>\n",
       "    <tr>\n",
       "      <th>2</th>\n",
       "      <td>1.0</td>\n",
       "      <td>2.0</td>\n",
       "      <td>1.0</td>\n",
       "      <td>1,2</td>\n",
       "      <td>2.0</td>\n",
       "      <td>2.0</td>\n",
       "    </tr>\n",
       "    <tr>\n",
       "      <th>3</th>\n",
       "      <td>1.0</td>\n",
       "      <td>2.0</td>\n",
       "      <td>2.0</td>\n",
       "      <td>1,7</td>\n",
       "      <td>1.0</td>\n",
       "      <td>1.0</td>\n",
       "    </tr>\n",
       "    <tr>\n",
       "      <th>4</th>\n",
       "      <td>5.0</td>\n",
       "      <td>2.0</td>\n",
       "      <td>2.0</td>\n",
       "      <td>5</td>\n",
       "      <td>2.0</td>\n",
       "      <td>2.0</td>\n",
       "    </tr>\n",
       "    <tr>\n",
       "      <th>5</th>\n",
       "      <td>5.0</td>\n",
       "      <td>2.0</td>\n",
       "      <td>2.0</td>\n",
       "      <td>5</td>\n",
       "      <td>2.0</td>\n",
       "      <td>2.0</td>\n",
       "    </tr>\n",
       "  </tbody>\n",
       "</table>\n",
       "</div>"
      ],
      "text/plain": [
       "   Sexual_orientation_num  Discipline_num  Gender_num Race_num  \\\n",
       "0                     NaN             2.0         NaN      NaN   \n",
       "1                     1.0             2.0         2.0        4   \n",
       "2                     1.0             2.0         1.0      1,2   \n",
       "3                     1.0             2.0         2.0      1,7   \n",
       "4                     5.0             2.0         2.0        5   \n",
       "5                     5.0             2.0         2.0        5   \n",
       "\n",
       "   sex_harass_num  sex_remarks_num  \n",
       "0             NaN              NaN  \n",
       "1             2.0              1.0  \n",
       "2             2.0              2.0  \n",
       "3             1.0              1.0  \n",
       "4             2.0              2.0  \n",
       "5             2.0              2.0  "
      ]
     },
     "execution_count": 91,
     "metadata": {},
     "output_type": "execute_result"
    }
   ],
   "source": [
    "df[to_convert].head(6)"
   ]
  },
  {
   "cell_type": "code",
   "execution_count": 92,
   "metadata": {},
   "outputs": [],
   "source": [
    "df[to_convert] = df[to_convert].astype(\"string\")"
   ]
  },
  {
   "cell_type": "code",
   "execution_count": 93,
   "metadata": {},
   "outputs": [
    {
     "data": {
      "text/plain": [
       "Sexual_orientation_num    string\n",
       "Discipline_num            string\n",
       "Gender_num                string\n",
       "Race_num                  string\n",
       "sex_harass_num            string\n",
       "sex_remarks_num           string\n",
       "dtype: object"
      ]
     },
     "execution_count": 93,
     "metadata": {},
     "output_type": "execute_result"
    }
   ],
   "source": [
    "df[to_convert].dtypes"
   ]
  },
  {
   "cell_type": "code",
   "execution_count": 94,
   "metadata": {},
   "outputs": [
    {
     "data": {
      "text/plain": [
       "Sexual_orientation_num     string\n",
       "Race_num                   string\n",
       "Discipline_num             string\n",
       "Gender_num                 string\n",
       "Pain                      float64\n",
       "                           ...   \n",
       "Minority_Stress_31        float64\n",
       "Minority_Stress_32        float64\n",
       "Minority_Stress_33        float64\n",
       "sex_harass_num             string\n",
       "sex_remarks_num            string\n",
       "Length: 74, dtype: object"
      ]
     },
     "execution_count": 94,
     "metadata": {},
     "output_type": "execute_result"
    }
   ],
   "source": [
    "df.dtypes"
   ]
  },
  {
   "attachments": {},
   "cell_type": "markdown",
   "metadata": {},
   "source": [
    "**I hope to find all the unique categories of these categorical variables**"
   ]
  },
  {
   "cell_type": "code",
   "execution_count": 95,
   "metadata": {},
   "outputs": [
    {
     "name": "stdout",
     "output_type": "stream",
     "text": [
      "Sexual_orientation_num                             <NA>,1.0,5.0,3.0,4.0,2.0\n",
      "Discipline_num                                     2.0,5.0,<NA>,1.0,3.0,4.0\n",
      "Gender_num                                 <NA>,2.0,1.0,5.0,7.0,6.0,4.0,3.0\n",
      "Race_num                  <NA>,4,1,2,1,7,5,1,3,3,7,1,4,3,4,1,2,7,7,1,3,6...\n",
      "sex_harass_num                                             <NA>,2.0,1.0,3.0\n",
      "sex_remarks_num                                            <NA>,1.0,2.0,3.0\n",
      "dtype: object\n"
     ]
    }
   ],
   "source": [
    "print(df[to_convert].apply(lambda col:','.join(map(str,col.unique()))))"
   ]
  },
  {
   "cell_type": "code",
   "execution_count": 96,
   "metadata": {},
   "outputs": [
    {
     "data": {
      "text/plain": [
       "Sexual_orientation_num                      [<NA>, 1.0, 5.0, 3.0, 4.0, 2.0]\n",
       "Discipline_num                              [2.0, 5.0, <NA>, 1.0, 3.0, 4.0]\n",
       "Gender_num                        [<NA>, 2.0, 1.0, 5.0, 7.0, 6.0, 4.0, 3.0]\n",
       "Race_num                  [<NA>, 4, 1,2, 1,7, 5, 1, 3, 3,7, 1,4, 3,4, 1,...\n",
       "sex_harass_num                                        [<NA>, 2.0, 1.0, 3.0]\n",
       "sex_remarks_num                                       [<NA>, 1.0, 2.0, 3.0]\n",
       "dtype: object"
      ]
     },
     "execution_count": 96,
     "metadata": {},
     "output_type": "execute_result"
    }
   ],
   "source": [
    "# we could also use this method to achieve the same effect\n",
    "#another way to do the same thing\n",
    "pd.Series({col:df[col].unique() for col in df[to_convert]})"
   ]
  },
  {
   "cell_type": "code",
   "execution_count": null,
   "metadata": {},
   "outputs": [],
   "source": [
    "## np.where(np.array(l1)=='1')[0][0]"
   ]
  },
  {
   "cell_type": "markdown",
   "metadata": {},
   "source": [
    "**We need to create some variables for future use**"
   ]
  },
  {
   "cell_type": "code",
   "execution_count": 98,
   "metadata": {},
   "outputs": [
    {
     "name": "stdout",
     "output_type": "stream",
     "text": [
      "[<NA>, '4', '1,2', '1,7', '5', '1', '3', '3,7', '1,4', '3,4', '1,2,7', '7', '1,3,6,7', '2', '2,4', '4,7', '2,4,7', '5,7', '4,5,7', '2,7', '1,5,7', '1,2,4,7', '3,4,6', '6', '1,4,7', '1,6', '1,3', '3,4,7', '2,3,4']\n"
     ]
    }
   ],
   "source": [
    "Race_Ori=list(df['Race_num'].unique())\n",
    "# l0=list(filter(lambda a:a==a,l0))\n",
    "print(Race_Ori)"
   ]
  },
  {
   "attachments": {},
   "cell_type": "markdown",
   "metadata": {},
   "source": [
    "**Because of the following analysis, we need to drop all NaN and also, since we need to change all subcategories that contain '1' to '1', and all the rest to '2', we need to first find all subgroups containing '1'**"
   ]
  },
  {
   "cell_type": "code",
   "execution_count": 99,
   "metadata": {},
   "outputs": [
    {
     "name": "stdout",
     "output_type": "stream",
     "text": [
      "['1,2', '1,7', '1', '1,4', '1,2,7', '1,3,6,7', '1,5,7', '1,2,4,7', '1,4,7', '1,6', '1,3']\n"
     ]
    }
   ],
   "source": [
    "# Create a lists of NO NA and subgroups containing '1'\n",
    "Race_1=[ele for ele in Race_Ori if not pd.isna(ele) and '1' in ele.split(',') ] \n",
    "print(Race_1)"
   ]
  },
  {
   "cell_type": "code",
   "execution_count": 100,
   "metadata": {},
   "outputs": [
    {
     "name": "stdout",
     "output_type": "stream",
     "text": [
      "['4', '1,2', '1,7', '5', '1', '3', '3,7', '1,4', '3,4', '1,2,7', '7', '1,3,6,7', '2', '2,4', '4,7', '2,4,7', '5,7', '4,5,7', '2,7', '1,5,7', '1,2,4,7', '3,4,6', '6', '1,4,7', '1,6', '1,3', '3,4,7', '2,3,4']\n"
     ]
    }
   ],
   "source": [
    "# Create a lists of only NO NA \n",
    "Race_NoNa = [ele for ele in list(df['Race_num'].unique()) if not pd.isna(ele)]\n",
    "print(Race_NoNa)"
   ]
  },
  {
   "cell_type": "code",
   "execution_count": 101,
   "metadata": {},
   "outputs": [
    {
     "name": "stdout",
     "output_type": "stream",
     "text": [
      "['2,4', '3,4', '2,3,4', '3', '2,7', '3,4,6', '7', '2', '3,4,7', '6', '4,5,7', '4,7', '5', '2,4,7', '3,7', '5,7', '4']\n"
     ]
    }
   ],
   "source": [
    "# Find the subgroups between two lists, which is a list containing subgroups \n",
    "# that don't contain '1' \n",
    "Race_2=list(set(Race_NoNa)-set(Race_1))\n",
    "print(Race_2)"
   ]
  },
  {
   "cell_type": "code",
   "execution_count": 102,
   "metadata": {},
   "outputs": [
    {
     "name": "stdout",
     "output_type": "stream",
     "text": [
      "{'1,2': '1', '1,7': '1', '1': '1', '1,4': '1', '1,2,7': '1', '1,3,6,7': '1', '1,5,7': '1', '1,2,4,7': '1', '1,4,7': '1', '1,6': '1', '1,3': '1', '2,4': '2', '3,4': '2', '2,3,4': '2', '3': '2', '2,7': '2', '3,4,6': '2', '7': '2', '2': '2', '3,4,7': '2', '6': '2', '4,5,7': '2', '4,7': '2', '5': '2', '2,4,7': '2', '3,7': '2', '5,7': '2', '4': '2'}\n"
     ]
    }
   ],
   "source": [
    "# Create two dictionary for us to map original names to new names\n",
    "Race_d1 = dict.fromkeys(Race_1,'1')\n",
    "Race_d2 = dict.fromkeys(Race_2,'2')\n",
    "Race_d3={**Race_d1,**Race_d2}\n",
    "print(Race_d3)"
   ]
  },
  {
   "cell_type": "code",
   "execution_count": 103,
   "metadata": {},
   "outputs": [],
   "source": [
    "# use assign() to recode this column\n",
    "df=df.assign(Race_num  = df.Race_num.map(Race_d3))"
   ]
  },
  {
   "cell_type": "code",
   "execution_count": 104,
   "metadata": {},
   "outputs": [
    {
     "data": {
      "text/plain": [
       "array([nan, '2', '1'], dtype=object)"
      ]
     },
     "execution_count": 104,
     "metadata": {},
     "output_type": "execute_result"
    }
   ],
   "source": [
    "## check the recoded results\n",
    "df['Race_num'].unique()"
   ]
  },
  {
   "attachments": {},
   "cell_type": "markdown",
   "metadata": {},
   "source": [
    "**Now we move to Discipline**"
   ]
  },
  {
   "cell_type": "code",
   "execution_count": 105,
   "metadata": {},
   "outputs": [
    {
     "data": {
      "text/plain": [
       "0    2.0\n",
       "1    2.0\n",
       "2    2.0\n",
       "3    2.0\n",
       "4    2.0\n",
       "5    2.0\n",
       "Name: Discipline_num, dtype: string"
      ]
     },
     "execution_count": 105,
     "metadata": {},
     "output_type": "execute_result"
    }
   ],
   "source": [
    "df.Discipline_num.head(6)"
   ]
  },
  {
   "cell_type": "code",
   "execution_count": 106,
   "metadata": {},
   "outputs": [
    {
     "data": {
      "text/plain": [
       "<StringArray>\n",
       "['2.0', '5.0', <NA>, '1.0', '3.0', '4.0']\n",
       "Length: 6, dtype: string"
      ]
     },
     "execution_count": 106,
     "metadata": {},
     "output_type": "execute_result"
    }
   ],
   "source": [
    "df['Discipline_num'].unique()"
   ]
  },
  {
   "attachments": {},
   "cell_type": "markdown",
   "metadata": {},
   "source": [
    "**For Discipline variable, we need to combine '1' and '2' to '1', and combine '3', '4', '5' to '2'.**"
   ]
  },
  {
   "cell_type": "code",
   "execution_count": 107,
   "metadata": {},
   "outputs": [
    {
     "name": "stdout",
     "output_type": "stream",
     "text": [
      "['1.0', '2.0']\n"
     ]
    }
   ],
   "source": [
    "Disc_1 = ['1.0','2.0']\n",
    "print(Disc_1)"
   ]
  },
  {
   "cell_type": "code",
   "execution_count": 108,
   "metadata": {},
   "outputs": [
    {
     "name": "stdout",
     "output_type": "stream",
     "text": [
      "['5.0', '3.0', '4.0']\n"
     ]
    }
   ],
   "source": [
    "Disc_2=[ele for ele in list(df.Discipline_num.unique()) if not pd.isna(ele) and ele not in Disc_1]\n",
    "print(Disc_2)"
   ]
  },
  {
   "cell_type": "code",
   "execution_count": 109,
   "metadata": {},
   "outputs": [
    {
     "name": "stdout",
     "output_type": "stream",
     "text": [
      "{'1.0': '1', '2.0': '1', '5.0': '2', '3.0': '2', '4.0': '2'}\n"
     ]
    }
   ],
   "source": [
    "Disc_1=dict.fromkeys(Disc_1,'1')\n",
    "Disc_2=dict.fromkeys(Disc_2,'2')\n",
    "Disc_3={**Disc_1,**Disc_2}\n",
    "print(Disc_3)"
   ]
  },
  {
   "cell_type": "code",
   "execution_count": 110,
   "metadata": {},
   "outputs": [],
   "source": [
    "df=df.assign(Discipline_num=df.Discipline_num.map(Disc_3))"
   ]
  },
  {
   "cell_type": "code",
   "execution_count": 111,
   "metadata": {},
   "outputs": [
    {
     "data": {
      "text/plain": [
       "array(['1', '2', nan], dtype=object)"
      ]
     },
     "execution_count": 111,
     "metadata": {},
     "output_type": "execute_result"
    }
   ],
   "source": [
    "## check the recoded results\n",
    "df.Discipline_num.unique()"
   ]
  },
  {
   "attachments": {},
   "cell_type": "markdown",
   "metadata": {},
   "source": [
    "**Now we move to Gender**"
   ]
  },
  {
   "cell_type": "code",
   "execution_count": 112,
   "metadata": {},
   "outputs": [
    {
     "data": {
      "text/plain": [
       "<StringArray>\n",
       "[<NA>, '2.0', '1.0', '5.0', '7.0', '6.0', '4.0', '3.0']\n",
       "Length: 8, dtype: string"
      ]
     },
     "execution_count": 112,
     "metadata": {},
     "output_type": "execute_result"
    }
   ],
   "source": [
    "df.Gender_num.unique()"
   ]
  },
  {
   "attachments": {},
   "cell_type": "markdown",
   "metadata": {},
   "source": [
    "**For Gender variable, we need to combine '3', '4', '5' ,'6', '7' to '3'.**"
   ]
  },
  {
   "cell_type": "code",
   "execution_count": 113,
   "metadata": {},
   "outputs": [
    {
     "name": "stdout",
     "output_type": "stream",
     "text": [
      "['5.0', '7.0', '6.0', '4.0', '3.0']\n"
     ]
    }
   ],
   "source": [
    "# Find the all subgroups that we need to combine\n",
    "Gender_1 = [ele for ele in list(df.Gender_num.unique()) if not pd.isna(ele) and ele not in Disc_1]\n",
    "print(Gender_1)"
   ]
  },
  {
   "cell_type": "code",
   "execution_count": 115,
   "metadata": {},
   "outputs": [
    {
     "name": "stdout",
     "output_type": "stream",
     "text": [
      "{'5.0': '3', '7.0': '3', '6.0': '3', '4.0': '3', '3.0': '3', '1.0': '1', '2.0': '2'}\n"
     ]
    }
   ],
   "source": [
    "Gender_d3=dict.fromkeys(Gender_1,'3')\n",
    "Gender_d3['1.0']='1'\n",
    "Gender_d3['2.0']='2'\n",
    "print(Gender_d3)"
   ]
  },
  {
   "cell_type": "code",
   "execution_count": 116,
   "metadata": {},
   "outputs": [],
   "source": [
    "df=df.assign(Gender_num=df.Gender_num.map(Gender_d3))"
   ]
  },
  {
   "cell_type": "code",
   "execution_count": 117,
   "metadata": {},
   "outputs": [
    {
     "data": {
      "text/plain": [
       "array([nan, '2', '1', '3'], dtype=object)"
      ]
     },
     "execution_count": 117,
     "metadata": {},
     "output_type": "execute_result"
    }
   ],
   "source": [
    "## check the recoded results\n",
    "df['Gender_num'].unique()"
   ]
  },
  {
   "cell_type": "code",
   "execution_count": 118,
   "metadata": {},
   "outputs": [
    {
     "data": {
      "text/plain": [
       "array([nan, '2', '1', '3'], dtype=object)"
      ]
     },
     "execution_count": 118,
     "metadata": {},
     "output_type": "execute_result"
    }
   ],
   "source": [
    "# this method also gives the same effect\n",
    "df.Gender_num.map(lambda a: '3' if not pd.isna(a) and a in Gender_1 else a).unique()"
   ]
  },
  {
   "cell_type": "code",
   "execution_count": 279,
   "metadata": {},
   "outputs": [
    {
     "name": "stderr",
     "output_type": "stream",
     "text": [
      "C:\\Users\\ancho\\AppData\\Local\\Temp\\ipykernel_10616\\3535786384.py:1: FutureWarning: The default value of regex will change from True to False in a future version.\n",
      "  df.Gender_num.str.replace('.0','').unique()\n"
     ]
    },
    {
     "data": {
      "text/plain": [
       "<StringArray>\n",
       "[<NA>, '2', '1', '5', '7', '6', '4', '3']\n",
       "Length: 8, dtype: string"
      ]
     },
     "execution_count": 279,
     "metadata": {},
     "output_type": "execute_result"
    }
   ],
   "source": [
    "# df.Gender_num.str.replace('.0','').unique()"
   ]
  },
  {
   "attachments": {},
   "cell_type": "markdown",
   "metadata": {},
   "source": [
    "\n",
    "\n",
    "\n",
    "**In this case, probably we could write a loop**\n",
    "\n",
    "\n",
    "\n"
   ]
  },
  {
   "cell_type": "code",
   "execution_count": 131,
   "metadata": {},
   "outputs": [
    {
     "name": "stdout",
     "output_type": "stream",
     "text": [
      "[{'1.0': '1', '2.0': '1', '5.0': '2', '3.0': '2', '4.0': '2'}, {'5.0': '3', '7.0': '3', '6.0': '3', '4.0': '3', '3.0': '3', '1.0': '1', '2.0': '2'}, {'1,2': '1', '1,7': '1', '1': '1', '1,4': '1', '1,2,7': '1', '1,3,6,7': '1', '1,5,7': '1', '1,2,4,7': '1', '1,4,7': '1', '1,6': '1', '1,3': '1', '2,4': '2', '3,4': '2', '2,3,4': '2', '3': '2', '2,7': '2', '3,4,6': '2', '7': '2', '2': '2', '3,4,7': '2', '6': '2', '4,5,7': '2', '4,7': '2', '5': '2', '2,4,7': '2', '3,7': '2', '5,7': '2', '4': '2'}]\n"
     ]
    }
   ],
   "source": [
    "#### \n",
    "maplist=[Disc_3,Gender_d3,Race_d3]\n",
    "print(maplist)"
   ]
  },
  {
   "cell_type": "code",
   "execution_count": 132,
   "metadata": {},
   "outputs": [
    {
     "data": {
      "text/plain": [
       "['Discipline_num', 'Gender_num', 'Race_num']"
      ]
     },
     "execution_count": 132,
     "metadata": {},
     "output_type": "execute_result"
    }
   ],
   "source": [
    "to_convert[1:4]"
   ]
  },
  {
   "cell_type": "code",
   "execution_count": 133,
   "metadata": {},
   "outputs": [
    {
     "data": {
      "text/html": [
       "<div>\n",
       "<style scoped>\n",
       "    .dataframe tbody tr th:only-of-type {\n",
       "        vertical-align: middle;\n",
       "    }\n",
       "\n",
       "    .dataframe tbody tr th {\n",
       "        vertical-align: top;\n",
       "    }\n",
       "\n",
       "    .dataframe thead th {\n",
       "        text-align: right;\n",
       "    }\n",
       "</style>\n",
       "<table border=\"1\" class=\"dataframe\">\n",
       "  <thead>\n",
       "    <tr style=\"text-align: right;\">\n",
       "      <th></th>\n",
       "      <th>Sexual_orientation</th>\n",
       "      <th>Race_num</th>\n",
       "      <th>Discipline_num</th>\n",
       "      <th>Gender_num</th>\n",
       "      <th>Pain</th>\n",
       "      <th>Fatigue</th>\n",
       "      <th>Physical_Activities</th>\n",
       "      <th>Negative_affect</th>\n",
       "      <th>Imposter_1</th>\n",
       "      <th>Imposter_2</th>\n",
       "      <th>...</th>\n",
       "      <th>Minority_Stress_26</th>\n",
       "      <th>Minority_Stress_27</th>\n",
       "      <th>Minority_Stress_28</th>\n",
       "      <th>Minority_Stress_29</th>\n",
       "      <th>Minority_Stress_30</th>\n",
       "      <th>Minority_Stress_31</th>\n",
       "      <th>Minority_Stress_32</th>\n",
       "      <th>Minority_Stress_33</th>\n",
       "      <th>U_others_sex_harass</th>\n",
       "      <th>Offended_sex_remarks</th>\n",
       "    </tr>\n",
       "  </thead>\n",
       "  <tbody>\n",
       "    <tr>\n",
       "      <th>0</th>\n",
       "      <td>NaN</td>\n",
       "      <td>NaN</td>\n",
       "      <td>2.0</td>\n",
       "      <td>NaN</td>\n",
       "      <td>3.0</td>\n",
       "      <td>3.0</td>\n",
       "      <td>5.0</td>\n",
       "      <td>3.0</td>\n",
       "      <td>NaN</td>\n",
       "      <td>NaN</td>\n",
       "      <td>...</td>\n",
       "      <td>NaN</td>\n",
       "      <td>NaN</td>\n",
       "      <td>NaN</td>\n",
       "      <td>NaN</td>\n",
       "      <td>NaN</td>\n",
       "      <td>NaN</td>\n",
       "      <td>NaN</td>\n",
       "      <td>NaN</td>\n",
       "      <td>NaN</td>\n",
       "      <td>NaN</td>\n",
       "    </tr>\n",
       "    <tr>\n",
       "      <th>1</th>\n",
       "      <td>1.0</td>\n",
       "      <td>4</td>\n",
       "      <td>2.0</td>\n",
       "      <td>2.0</td>\n",
       "      <td>2.0</td>\n",
       "      <td>2.0</td>\n",
       "      <td>5.0</td>\n",
       "      <td>2.0</td>\n",
       "      <td>3.0</td>\n",
       "      <td>NaN</td>\n",
       "      <td>...</td>\n",
       "      <td>3.0</td>\n",
       "      <td>1.0</td>\n",
       "      <td>2.0</td>\n",
       "      <td>2.0</td>\n",
       "      <td>1.0</td>\n",
       "      <td>4.0</td>\n",
       "      <td>5.0</td>\n",
       "      <td>4.0</td>\n",
       "      <td>2.0</td>\n",
       "      <td>1.0</td>\n",
       "    </tr>\n",
       "    <tr>\n",
       "      <th>2</th>\n",
       "      <td>1.0</td>\n",
       "      <td>1,2</td>\n",
       "      <td>2.0</td>\n",
       "      <td>1.0</td>\n",
       "      <td>0.0</td>\n",
       "      <td>3.0</td>\n",
       "      <td>4.0</td>\n",
       "      <td>3.0</td>\n",
       "      <td>3.0</td>\n",
       "      <td>NaN</td>\n",
       "      <td>...</td>\n",
       "      <td>4.0</td>\n",
       "      <td>0.0</td>\n",
       "      <td>4.0</td>\n",
       "      <td>4.0</td>\n",
       "      <td>2.0</td>\n",
       "      <td>3.0</td>\n",
       "      <td>2.0</td>\n",
       "      <td>0.0</td>\n",
       "      <td>2.0</td>\n",
       "      <td>2.0</td>\n",
       "    </tr>\n",
       "    <tr>\n",
       "      <th>3</th>\n",
       "      <td>1.0</td>\n",
       "      <td>1,7</td>\n",
       "      <td>2.0</td>\n",
       "      <td>2.0</td>\n",
       "      <td>1.0</td>\n",
       "      <td>4.0</td>\n",
       "      <td>3.0</td>\n",
       "      <td>4.0</td>\n",
       "      <td>3.0</td>\n",
       "      <td>NaN</td>\n",
       "      <td>...</td>\n",
       "      <td>5.0</td>\n",
       "      <td>5.0</td>\n",
       "      <td>NaN</td>\n",
       "      <td>5.0</td>\n",
       "      <td>5.0</td>\n",
       "      <td>5.0</td>\n",
       "      <td>5.0</td>\n",
       "      <td>5.0</td>\n",
       "      <td>1.0</td>\n",
       "      <td>1.0</td>\n",
       "    </tr>\n",
       "    <tr>\n",
       "      <th>4</th>\n",
       "      <td>5.0</td>\n",
       "      <td>5</td>\n",
       "      <td>2.0</td>\n",
       "      <td>2.0</td>\n",
       "      <td>1.0</td>\n",
       "      <td>2.0</td>\n",
       "      <td>5.0</td>\n",
       "      <td>2.0</td>\n",
       "      <td>5.0</td>\n",
       "      <td>NaN</td>\n",
       "      <td>...</td>\n",
       "      <td>4.0</td>\n",
       "      <td>0.0</td>\n",
       "      <td>3.0</td>\n",
       "      <td>5.0</td>\n",
       "      <td>4.0</td>\n",
       "      <td>5.0</td>\n",
       "      <td>NaN</td>\n",
       "      <td>3.0</td>\n",
       "      <td>2.0</td>\n",
       "      <td>2.0</td>\n",
       "    </tr>\n",
       "    <tr>\n",
       "      <th>5</th>\n",
       "      <td>5.0</td>\n",
       "      <td>5</td>\n",
       "      <td>2.0</td>\n",
       "      <td>2.0</td>\n",
       "      <td>1.0</td>\n",
       "      <td>2.0</td>\n",
       "      <td>5.0</td>\n",
       "      <td>2.0</td>\n",
       "      <td>5.0</td>\n",
       "      <td>NaN</td>\n",
       "      <td>...</td>\n",
       "      <td>NaN</td>\n",
       "      <td>0.0</td>\n",
       "      <td>3.0</td>\n",
       "      <td>5.0</td>\n",
       "      <td>4.0</td>\n",
       "      <td>4.0</td>\n",
       "      <td>5.0</td>\n",
       "      <td>3.0</td>\n",
       "      <td>2.0</td>\n",
       "      <td>2.0</td>\n",
       "    </tr>\n",
       "  </tbody>\n",
       "</table>\n",
       "<p>6 rows × 74 columns</p>\n",
       "</div>"
      ],
      "text/plain": [
       "   Sexual_orientation Race_num  Discipline_num  Gender_num  Pain  Fatigue  \\\n",
       "0                 NaN      NaN             2.0         NaN   3.0      3.0   \n",
       "1                 1.0        4             2.0         2.0   2.0      2.0   \n",
       "2                 1.0      1,2             2.0         1.0   0.0      3.0   \n",
       "3                 1.0      1,7             2.0         2.0   1.0      4.0   \n",
       "4                 5.0        5             2.0         2.0   1.0      2.0   \n",
       "5                 5.0        5             2.0         2.0   1.0      2.0   \n",
       "\n",
       "   Physical_Activities  Negative_affect  Imposter_1  Imposter_2  ...  \\\n",
       "0                  5.0              3.0         NaN         NaN  ...   \n",
       "1                  5.0              2.0         3.0         NaN  ...   \n",
       "2                  4.0              3.0         3.0         NaN  ...   \n",
       "3                  3.0              4.0         3.0         NaN  ...   \n",
       "4                  5.0              2.0         5.0         NaN  ...   \n",
       "5                  5.0              2.0         5.0         NaN  ...   \n",
       "\n",
       "   Minority_Stress_26  Minority_Stress_27  Minority_Stress_28  \\\n",
       "0                 NaN                 NaN                 NaN   \n",
       "1                 3.0                 1.0                 2.0   \n",
       "2                 4.0                 0.0                 4.0   \n",
       "3                 5.0                 5.0                 NaN   \n",
       "4                 4.0                 0.0                 3.0   \n",
       "5                 NaN                 0.0                 3.0   \n",
       "\n",
       "   Minority_Stress_29  Minority_Stress_30  Minority_Stress_31  \\\n",
       "0                 NaN                 NaN                 NaN   \n",
       "1                 2.0                 1.0                 4.0   \n",
       "2                 4.0                 2.0                 3.0   \n",
       "3                 5.0                 5.0                 5.0   \n",
       "4                 5.0                 4.0                 5.0   \n",
       "5                 5.0                 4.0                 4.0   \n",
       "\n",
       "   Minority_Stress_32  Minority_Stress_33  U_others_sex_harass  \\\n",
       "0                 NaN                 NaN                  NaN   \n",
       "1                 5.0                 4.0                  2.0   \n",
       "2                 2.0                 0.0                  2.0   \n",
       "3                 5.0                 5.0                  1.0   \n",
       "4                 NaN                 3.0                  2.0   \n",
       "5                 5.0                 3.0                  2.0   \n",
       "\n",
       "   Offended_sex_remarks  \n",
       "0                   NaN  \n",
       "1                   1.0  \n",
       "2                   2.0  \n",
       "3                   1.0  \n",
       "4                   2.0  \n",
       "5                   2.0  \n",
       "\n",
       "[6 rows x 74 columns]"
      ]
     },
     "execution_count": 133,
     "metadata": {},
     "output_type": "execute_result"
    }
   ],
   "source": [
    "test = Combined__all3WAVES[to_select].copy()\n",
    "test = test.rename(columns={'Race_ethnicity_ID': 'Race_num',\n",
    " 'Discipline': 'Discipline_num',\n",
    " 'Gender': 'Gender_num'})\n",
    "test.head(6)\n"
   ]
  },
  {
   "cell_type": "code",
   "execution_count": 134,
   "metadata": {},
   "outputs": [
    {
     "data": {
      "text/plain": [
       "Sexual_orientation      float64\n",
       "Race_num                 object\n",
       "Discipline_num          float64\n",
       "Gender_num              float64\n",
       "Pain                    float64\n",
       "                         ...   \n",
       "Minority_Stress_31      float64\n",
       "Minority_Stress_32      float64\n",
       "Minority_Stress_33      float64\n",
       "U_others_sex_harass     float64\n",
       "Offended_sex_remarks    float64\n",
       "Length: 74, dtype: object"
      ]
     },
     "execution_count": 134,
     "metadata": {},
     "output_type": "execute_result"
    }
   ],
   "source": [
    "test.dtypes"
   ]
  },
  {
   "cell_type": "code",
   "execution_count": 135,
   "metadata": {},
   "outputs": [],
   "source": [
    "test[to_convert[1:4]] = test[to_convert[1:4]].astype(\"string\")"
   ]
  },
  {
   "cell_type": "code",
   "execution_count": 136,
   "metadata": {},
   "outputs": [
    {
     "data": {
      "text/html": [
       "<div>\n",
       "<style scoped>\n",
       "    .dataframe tbody tr th:only-of-type {\n",
       "        vertical-align: middle;\n",
       "    }\n",
       "\n",
       "    .dataframe tbody tr th {\n",
       "        vertical-align: top;\n",
       "    }\n",
       "\n",
       "    .dataframe thead th {\n",
       "        text-align: right;\n",
       "    }\n",
       "</style>\n",
       "<table border=\"1\" class=\"dataframe\">\n",
       "  <thead>\n",
       "    <tr style=\"text-align: right;\">\n",
       "      <th></th>\n",
       "      <th>Sexual_orientation</th>\n",
       "      <th>Race_num</th>\n",
       "      <th>Discipline_num</th>\n",
       "      <th>Gender_num</th>\n",
       "      <th>Pain</th>\n",
       "      <th>Fatigue</th>\n",
       "      <th>Physical_Activities</th>\n",
       "      <th>Negative_affect</th>\n",
       "      <th>Imposter_1</th>\n",
       "      <th>Imposter_2</th>\n",
       "      <th>...</th>\n",
       "      <th>Minority_Stress_26</th>\n",
       "      <th>Minority_Stress_27</th>\n",
       "      <th>Minority_Stress_28</th>\n",
       "      <th>Minority_Stress_29</th>\n",
       "      <th>Minority_Stress_30</th>\n",
       "      <th>Minority_Stress_31</th>\n",
       "      <th>Minority_Stress_32</th>\n",
       "      <th>Minority_Stress_33</th>\n",
       "      <th>U_others_sex_harass</th>\n",
       "      <th>Offended_sex_remarks</th>\n",
       "    </tr>\n",
       "  </thead>\n",
       "  <tbody>\n",
       "    <tr>\n",
       "      <th>0</th>\n",
       "      <td>NaN</td>\n",
       "      <td>&lt;NA&gt;</td>\n",
       "      <td>2.0</td>\n",
       "      <td>&lt;NA&gt;</td>\n",
       "      <td>3.0</td>\n",
       "      <td>3.0</td>\n",
       "      <td>5.0</td>\n",
       "      <td>3.0</td>\n",
       "      <td>NaN</td>\n",
       "      <td>NaN</td>\n",
       "      <td>...</td>\n",
       "      <td>NaN</td>\n",
       "      <td>NaN</td>\n",
       "      <td>NaN</td>\n",
       "      <td>NaN</td>\n",
       "      <td>NaN</td>\n",
       "      <td>NaN</td>\n",
       "      <td>NaN</td>\n",
       "      <td>NaN</td>\n",
       "      <td>NaN</td>\n",
       "      <td>NaN</td>\n",
       "    </tr>\n",
       "    <tr>\n",
       "      <th>1</th>\n",
       "      <td>1.0</td>\n",
       "      <td>4</td>\n",
       "      <td>2.0</td>\n",
       "      <td>2.0</td>\n",
       "      <td>2.0</td>\n",
       "      <td>2.0</td>\n",
       "      <td>5.0</td>\n",
       "      <td>2.0</td>\n",
       "      <td>3.0</td>\n",
       "      <td>NaN</td>\n",
       "      <td>...</td>\n",
       "      <td>3.0</td>\n",
       "      <td>1.0</td>\n",
       "      <td>2.0</td>\n",
       "      <td>2.0</td>\n",
       "      <td>1.0</td>\n",
       "      <td>4.0</td>\n",
       "      <td>5.0</td>\n",
       "      <td>4.0</td>\n",
       "      <td>2.0</td>\n",
       "      <td>1.0</td>\n",
       "    </tr>\n",
       "    <tr>\n",
       "      <th>2</th>\n",
       "      <td>1.0</td>\n",
       "      <td>1,2</td>\n",
       "      <td>2.0</td>\n",
       "      <td>1.0</td>\n",
       "      <td>0.0</td>\n",
       "      <td>3.0</td>\n",
       "      <td>4.0</td>\n",
       "      <td>3.0</td>\n",
       "      <td>3.0</td>\n",
       "      <td>NaN</td>\n",
       "      <td>...</td>\n",
       "      <td>4.0</td>\n",
       "      <td>0.0</td>\n",
       "      <td>4.0</td>\n",
       "      <td>4.0</td>\n",
       "      <td>2.0</td>\n",
       "      <td>3.0</td>\n",
       "      <td>2.0</td>\n",
       "      <td>0.0</td>\n",
       "      <td>2.0</td>\n",
       "      <td>2.0</td>\n",
       "    </tr>\n",
       "    <tr>\n",
       "      <th>3</th>\n",
       "      <td>1.0</td>\n",
       "      <td>1,7</td>\n",
       "      <td>2.0</td>\n",
       "      <td>2.0</td>\n",
       "      <td>1.0</td>\n",
       "      <td>4.0</td>\n",
       "      <td>3.0</td>\n",
       "      <td>4.0</td>\n",
       "      <td>3.0</td>\n",
       "      <td>NaN</td>\n",
       "      <td>...</td>\n",
       "      <td>5.0</td>\n",
       "      <td>5.0</td>\n",
       "      <td>NaN</td>\n",
       "      <td>5.0</td>\n",
       "      <td>5.0</td>\n",
       "      <td>5.0</td>\n",
       "      <td>5.0</td>\n",
       "      <td>5.0</td>\n",
       "      <td>1.0</td>\n",
       "      <td>1.0</td>\n",
       "    </tr>\n",
       "    <tr>\n",
       "      <th>4</th>\n",
       "      <td>5.0</td>\n",
       "      <td>5</td>\n",
       "      <td>2.0</td>\n",
       "      <td>2.0</td>\n",
       "      <td>1.0</td>\n",
       "      <td>2.0</td>\n",
       "      <td>5.0</td>\n",
       "      <td>2.0</td>\n",
       "      <td>5.0</td>\n",
       "      <td>NaN</td>\n",
       "      <td>...</td>\n",
       "      <td>4.0</td>\n",
       "      <td>0.0</td>\n",
       "      <td>3.0</td>\n",
       "      <td>5.0</td>\n",
       "      <td>4.0</td>\n",
       "      <td>5.0</td>\n",
       "      <td>NaN</td>\n",
       "      <td>3.0</td>\n",
       "      <td>2.0</td>\n",
       "      <td>2.0</td>\n",
       "    </tr>\n",
       "    <tr>\n",
       "      <th>5</th>\n",
       "      <td>5.0</td>\n",
       "      <td>5</td>\n",
       "      <td>2.0</td>\n",
       "      <td>2.0</td>\n",
       "      <td>1.0</td>\n",
       "      <td>2.0</td>\n",
       "      <td>5.0</td>\n",
       "      <td>2.0</td>\n",
       "      <td>5.0</td>\n",
       "      <td>NaN</td>\n",
       "      <td>...</td>\n",
       "      <td>NaN</td>\n",
       "      <td>0.0</td>\n",
       "      <td>3.0</td>\n",
       "      <td>5.0</td>\n",
       "      <td>4.0</td>\n",
       "      <td>4.0</td>\n",
       "      <td>5.0</td>\n",
       "      <td>3.0</td>\n",
       "      <td>2.0</td>\n",
       "      <td>2.0</td>\n",
       "    </tr>\n",
       "  </tbody>\n",
       "</table>\n",
       "<p>6 rows × 74 columns</p>\n",
       "</div>"
      ],
      "text/plain": [
       "   Sexual_orientation Race_num Discipline_num Gender_num  Pain  Fatigue  \\\n",
       "0                 NaN     <NA>            2.0       <NA>   3.0      3.0   \n",
       "1                 1.0        4            2.0        2.0   2.0      2.0   \n",
       "2                 1.0      1,2            2.0        1.0   0.0      3.0   \n",
       "3                 1.0      1,7            2.0        2.0   1.0      4.0   \n",
       "4                 5.0        5            2.0        2.0   1.0      2.0   \n",
       "5                 5.0        5            2.0        2.0   1.0      2.0   \n",
       "\n",
       "   Physical_Activities  Negative_affect  Imposter_1  Imposter_2  ...  \\\n",
       "0                  5.0              3.0         NaN         NaN  ...   \n",
       "1                  5.0              2.0         3.0         NaN  ...   \n",
       "2                  4.0              3.0         3.0         NaN  ...   \n",
       "3                  3.0              4.0         3.0         NaN  ...   \n",
       "4                  5.0              2.0         5.0         NaN  ...   \n",
       "5                  5.0              2.0         5.0         NaN  ...   \n",
       "\n",
       "   Minority_Stress_26  Minority_Stress_27  Minority_Stress_28  \\\n",
       "0                 NaN                 NaN                 NaN   \n",
       "1                 3.0                 1.0                 2.0   \n",
       "2                 4.0                 0.0                 4.0   \n",
       "3                 5.0                 5.0                 NaN   \n",
       "4                 4.0                 0.0                 3.0   \n",
       "5                 NaN                 0.0                 3.0   \n",
       "\n",
       "   Minority_Stress_29  Minority_Stress_30  Minority_Stress_31  \\\n",
       "0                 NaN                 NaN                 NaN   \n",
       "1                 2.0                 1.0                 4.0   \n",
       "2                 4.0                 2.0                 3.0   \n",
       "3                 5.0                 5.0                 5.0   \n",
       "4                 5.0                 4.0                 5.0   \n",
       "5                 5.0                 4.0                 4.0   \n",
       "\n",
       "   Minority_Stress_32  Minority_Stress_33  U_others_sex_harass  \\\n",
       "0                 NaN                 NaN                  NaN   \n",
       "1                 5.0                 4.0                  2.0   \n",
       "2                 2.0                 0.0                  2.0   \n",
       "3                 5.0                 5.0                  1.0   \n",
       "4                 NaN                 3.0                  2.0   \n",
       "5                 5.0                 3.0                  2.0   \n",
       "\n",
       "   Offended_sex_remarks  \n",
       "0                   NaN  \n",
       "1                   1.0  \n",
       "2                   2.0  \n",
       "3                   1.0  \n",
       "4                   2.0  \n",
       "5                   2.0  \n",
       "\n",
       "[6 rows x 74 columns]"
      ]
     },
     "execution_count": 136,
     "metadata": {},
     "output_type": "execute_result"
    }
   ],
   "source": [
    "test.head(6)"
   ]
  },
  {
   "cell_type": "code",
   "execution_count": 138,
   "metadata": {},
   "outputs": [
    {
     "name": "stdout",
     "output_type": "stream",
     "text": [
      "Discipline_num {'1.0': '1', '2.0': '1', '5.0': '2', '3.0': '2', '4.0': '2'}\n",
      "Gender_num {'5.0': '3', '7.0': '3', '6.0': '3', '4.0': '3', '3.0': '3', '1.0': '1', '2.0': '2'}\n",
      "Race_num {'1,2': '1', '1,7': '1', '1': '1', '1,4': '1', '1,2,7': '1', '1,3,6,7': '1', '1,5,7': '1', '1,2,4,7': '1', '1,4,7': '1', '1,6': '1', '1,3': '1', '2,4': '2', '3,4': '2', '2,3,4': '2', '3': '2', '2,7': '2', '3,4,6': '2', '7': '2', '2': '2', '3,4,7': '2', '6': '2', '4,5,7': '2', '4,7': '2', '5': '2', '2,4,7': '2', '3,7': '2', '5,7': '2', '4': '2'}\n"
     ]
    }
   ],
   "source": [
    "# we need to make sure the maplists are correspondent to the variable we need to recode\n",
    "for item in zip(to_convert[1:4],maplist):\n",
    "     print(item[0],item[1])"
   ]
  },
  {
   "cell_type": "code",
   "execution_count": 137,
   "metadata": {},
   "outputs": [
    {
     "name": "stdout",
     "output_type": "stream",
     "text": [
      "['1' '2' nan]\n",
      "[nan]\n",
      "[nan '2' '1' '3']\n",
      "[nan '2' '1']\n"
     ]
    }
   ],
   "source": [
    "# let's preview the results to make sure\n",
    "for item in zip(to_convert[1:4],maplist):\n",
    "\n",
    "     if item[0] == 'Discipline_num':\n",
    "        print(test.Discipline_num.map(item[1]).unique())\n",
    "     if item[0] == 'Gender_num':\n",
    "        print(test.Gender_num.map(item[1]).unique())        \n",
    "     else:\n",
    "        print(test.Race_num.map(item[1]).unique())\n"
   ]
  },
  {
   "cell_type": "code",
   "execution_count": 140,
   "metadata": {},
   "outputs": [],
   "source": [
    "# this loop would help us to recode the all variables of interests \n",
    "for item in zip(to_convert[1:4],maplist):\n",
    "    test[item[0]]=test[item[0]].map(item[1])"
   ]
  },
  {
   "cell_type": "code",
   "execution_count": 141,
   "metadata": {},
   "outputs": [
    {
     "data": {
      "text/plain": [
       "Discipline_num       [1, 2, nan]\n",
       "Gender_num        [nan, 2, 1, 3]\n",
       "Race_num             [nan, 2, 1]\n",
       "dtype: object"
      ]
     },
     "execution_count": 141,
     "metadata": {},
     "output_type": "execute_result"
    }
   ],
   "source": [
    "# you could use this method to check the recoded results \n",
    "pd.Series({col:test[col].unique() for col in test[to_convert[1:4]]})"
   ]
  },
  {
   "attachments": {},
   "cell_type": "markdown",
   "metadata": {},
   "source": [
    "**Next, we reversely coded the Mental Health Score**"
   ]
  },
  {
   "attachments": {},
   "cell_type": "markdown",
   "metadata": {},
   "source": [
    "The current code for this variable is erroneous which lead to uninterpretable analytical results, after reexamination of the orginal codes, I found some items needed to be reversely coded in order to reflect the true property of the measures. "
   ]
  },
  {
   "attachments": {},
   "cell_type": "markdown",
   "metadata": {},
   "source": [
    "Here are some resources\n",
    "\n",
    "https://stackoverflow.com/questions/13331698/how-to-apply-a-function-to-two-columns-of-pandas-dataframe\n",
    "\n",
    "https://www.geeksforgeeks.org/how-to-apply-a-function-to-multiple-columns-in-pandas/\n",
    "\n",
    "https://www.learndatasci.com/solutions/python-absolute-value/#:~:text=The%20absolute%20value%20of%20a,value%20of%20%2D5%20is%205."
   ]
  },
  {
   "cell_type": "code",
   "execution_count": null,
   "metadata": {},
   "outputs": [
    {
     "ename": "",
     "evalue": "",
     "output_type": "error",
     "traceback": [
      "\u001b[1;31mThe Kernel crashed while executing code in the the current cell or a previous cell. Please review the code in the cell(s) to identify a possible cause of the failure. Click <a href='https://aka.ms/vscodeJupyterKernelCrash'>here</a> for more info. View Jupyter <a href='command:jupyter.viewOutput'>log</a> for further details."
     ]
    }
   ],
   "source": [
    "# Check the original one\n",
    "df[name_MenHea]"
   ]
  },
  {
   "cell_type": "code",
   "execution_count": null,
   "metadata": {},
   "outputs": [],
   "source": [
    "# Check the recoded results\n",
    "df[name_MenHea].apply(lambda x: abs(x-7),axis = 1)"
   ]
  }
 ],
 "metadata": {
  "kernelspec": {
   "display_name": "Python 3",
   "language": "python",
   "name": "python3"
  },
  "language_info": {
   "codemirror_mode": {
    "name": "ipython",
    "version": 3
   },
   "file_extension": ".py",
   "mimetype": "text/x-python",
   "name": "python",
   "nbconvert_exporter": "python",
   "pygments_lexer": "ipython3",
   "version": "3.10.9"
  },
  "orig_nbformat": 4,
  "vscode": {
   "interpreter": {
    "hash": "f2faaeba664d00c7724169e9271177aee44e57f3c9913f868f8f47b3d1890be3"
   }
  }
 },
 "nbformat": 4,
 "nbformat_minor": 2
}
